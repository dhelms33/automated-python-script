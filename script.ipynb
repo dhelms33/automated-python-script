{
 "cells": [
  {
   "cell_type": "code",
   "execution_count": null,
   "metadata": {},
   "outputs": [],
   "source": [
    "import csv\n",
    "\n",
    "class CSVReader:\n",
    "    \"\"\"Class to read CSV files.\"\"\"\n",
    "    def __init__(self, file_path):\n",
    "        self.file_path = file_path\n",
    "\n",
    "    def read(self):\n",
    "        \"\"\"Read the CSV file and return the data as a list of dictionaries.\"\"\"\n",
    "        with open(self.file_path, 'r') as file:\n",
    "            reader = csv.DictReader(file)\n",
    "            return [row for row in reader]\n",
    "\n",
    "class Compare:\n",
    "    \"\"\"Class to compare fields from two CSV data sets.\"\"\"\n",
    "    def __init__(self, data1, data2):\n",
    "        self.data1 = data1\n",
    "        self.data2 = data2\n",
    "\n",
    "\n",
    "    def _check_field(self, field):\n",
    "        \"\"\"General method to check if the values of a field are the same in both data sets.\"\"\"\n",
    "        values1 = {(row['Display Name'], row['row checksum'],) for row in self.data1}\n",
    "        values2 = {(row['name'], row['amount'],) for row in self.data2}\n",
    "        \n",
    "        if values1 == values2:\n",
    "            print(f\"The records for the field '{field}' are the same.\")\n",
    "        else:\n",
    "            print(f\"The records for the field '{field}' are different.\")\n",
    "\n",
    "def main():\n",
    "    # Initialize CSVReader objects\n",
    "    csv1 = CSVReader('path_to_classy_csv.csv')\n",
    "    csv2 = CSVReader('path_to_dynamics_csv.csv')\n",
    "    \n",
    "    # Read CSV data\n",
    "    data1 = csv1.read()\n",
    "    data2 = csv2.read()\n",
    "\n",
    "    # Initialize Compare object\n",
    "    comparer = Compare(data1, data2)\n",
    "\n",
    "    # Check specific fields\n",
    "    comparer.check_fields()\n",
    "\n",
    "if __name__ == '__main__':\n",
    "    main()\n"
   ]
  }
 ],
 "metadata": {
  "language_info": {
   "name": "python"
  }
 },
 "nbformat": 4,
 "nbformat_minor": 2
}
