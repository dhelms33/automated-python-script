{
 "cells": [
  {
   "cell_type": "markdown",
   "metadata": {},
   "source": [
    "# CSV Comparison Tool\n",
    "\n",
    "This notebook demonstrates how to read CSV files and compare specified fields using a Python script.\n"
   ]
  },
  {
   "cell_type": "code",
   "execution_count": null,
   "metadata": {
    "vscode": {
     "languageId": "plaintext"
    }
   },
   "outputs": [],
   "source": [
    "# Import necessary libraries\n",
    "import csv\n"
   ]
  },
  {
   "cell_type": "markdown",
   "metadata": {},
   "source": [
    "The below code is meant to display SOLID principles in Python while and it only opens and reads two CSV files."
   ]
  },
  {
   "cell_type": "code",
   "execution_count": null,
   "metadata": {
    "vscode": {
     "languageId": "plaintext"
    }
   },
   "outputs": [],
   "source": [
    "# CSVReader Class\n",
    "# This class reads CSV files and returns the data as a list of dictionaries.\n",
    "class CSVReader:\n",
    "    \"\"\"Class to read CSV files.\"\"\"\n",
    "    def __init__(self, file_path):\n",
    "        self.file_path = file_path\n",
    "\n",
    "    def read(self):\n",
    "        \"\"\"Read the CSV file and return the data as a list of dictionaries.\"\"\"\n",
    "        with open(self.file_path, 'r') as file:\n",
    "            reader = csv.DictReader(file)\n",
    "            data = [row for row in reader]\n",
    "            print(f\"Columns in {self.file_path}: {reader.fieldnames}\")\n",
    "            return data\n"
   ]
  },
  {
   "cell_type": "markdown",
   "metadata": {},
   "source": [
    "The below code only acts to compare two CSV files and display the differences between the two files."
   ]
  },
  {
   "cell_type": "code",
   "execution_count": null,
   "metadata": {
    "vscode": {
     "languageId": "plaintext"
    }
   },
   "outputs": [],
   "source": [
    "# Compare Class\n",
    "# This class compares specified fields from two CSV data sets.\n",
    "class Compare:\n",
    "    \"\"\"Class to compare fields from two CSV data sets.\"\"\"\n",
    "    def __init__(self, data1, data2):\n",
    "        self.data1 = data1\n",
    "        self.data2 = data2\n",
    "\n",
    "    def compare_fields(self, field1, field2):\n",
    "        \"\"\"Method to compare specified fields from both data sets.\"\"\"\n",
    "        try:\n",
    "            data1_values = {(row[field1], row[field2]) for row in self.data1}\n",
    "            data2_values = {(row[field1], row[field2]) for row in self.data2}\n",
    "            \n",
    "            only_in_data1 = data1_values - data2_values\n",
    "            only_in_data2 = data2_values - data1_values\n",
    "\n",
    "            if not only_in_data1 and not only_in_data2:\n",
    "                print(f\"The records for fields '{field1}' and '{field2}' are the same.\")\n",
    "            else:\n",
    "                print(f\"The records for fields '{field1}' and '{field2}' are different.\")\n",
    "                if only_in_data1:\n",
    "                    print(f\"Records only in data1:\")\n",
    "                    for item in only_in_data1:\n",
    "                        print(item)\n",
    "                if only_in_data2:\n",
    "                    print(f\"Records only in data2:\")\n",
    "                    for item in only_in_data2:\n",
    "                        print(item)\n",
    "        except KeyError as e:\n",
    "            print(f\"KeyError: {e} - Please check if the column names exist in the CSV files.\")\n"
   ]
  },
  {
   "cell_type": "markdown",
   "metadata": {},
   "source": [
    "Below this we have the main function which is where we specify what the two CSV files are and the fields we want to compare."
   ]
  },
  {
   "cell_type": "code",
   "execution_count": null,
   "metadata": {
    "vscode": {
     "languageId": "plaintext"
    }
   },
   "outputs": [],
   "source": [
    "# Main Function\n",
    "# This function demonstrates the usage of the CSVReader and Compare classes.\n",
    "def main():\n",
    "    # Initialize CSVReader objects with file paths\n",
    "    csv1 = CSVReader('PS-23-002 CSV Classy Report.csv')\n",
    "    csv2 = CSVReader('PS-23-002 CSV FE Report.csv')\n",
    "    \n",
    "    # Read CSV data\n",
    "    data1 = csv1.read()\n",
    "    data2 = csv2.read()\n",
    "\n",
    "    # Initialize Compare object\n",
    "    comparer = Compare(data1, data2)\n",
    "\n",
    "    # Example fields to compare\n",
    "    field1 = \"Display Name\"\n",
    "    field2 = \"Gross Transaction Amount\"\n",
    "    comparer.compare_fields(field1, field2)\n",
    "\n",
    "# Execute the main function if the script is run directly\n",
    "if __name__ == '__main__':\n",
    "    main()\n"
   ]
  }
 ],
 "metadata": {
  "language_info": {
   "name": "python"
  }
 },
 "nbformat": 4,
 "nbformat_minor": 2
}
